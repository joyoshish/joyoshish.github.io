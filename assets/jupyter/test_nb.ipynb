{
 "cells": [
  {
   "cell_type": "code",
   "execution_count": 12,
   "metadata": {},
   "outputs": [
    {
     "data": {
      "application/vnd.jupyter.widget-view+json": {
       "model_id": "2e165636c821497194deda8364bb6ae4",
       "version_major": 2,
       "version_minor": 0
      },
      "text/plain": [
       "VBox(children=(IntSlider(value=2, description='α (prior)', max=10, min=1), IntSlider(value=2, description='β (…"
      ]
     },
     "metadata": {},
     "output_type": "display_data"
    },
    {
     "data": {
      "application/vnd.jupyter.widget-view+json": {
       "model_id": "b475ebb3867a4d0ea44a7a1c0d3d2b8d",
       "version_major": 2,
       "version_minor": 0
      },
      "text/plain": [
       "Output()"
      ]
     },
     "metadata": {},
     "output_type": "display_data"
    }
   ],
   "source": [
    "import numpy as np\n",
    "import plotly.graph_objects as go\n",
    "from scipy.stats import beta\n",
    "import ipywidgets as widgets\n",
    "from IPython.display import display\n",
    "\n",
    "def plot_bayes_update(alpha, beta_param, heads, tosses):\n",
    "    theta = np.linspace(0, 1, 300)\n",
    "    k = heads\n",
    "    n = tosses\n",
    "    \n",
    "    # Prior\n",
    "    prior_pdf = beta.pdf(theta, alpha, beta_param)\n",
    "    \n",
    "    # Likelihood (unnormalized)\n",
    "    likelihood = theta**k * (1 - theta)**(n - k)\n",
    "    likelihood /= np.trapz(likelihood, theta)\n",
    "    \n",
    "    # Posterior\n",
    "    post_alpha = alpha + k\n",
    "    post_beta = beta_param + n - k\n",
    "    posterior_pdf = beta.pdf(theta, post_alpha, post_beta)\n",
    "    \n",
    "    # Plot\n",
    "    fig = go.Figure()\n",
    "    fig.add_trace(go.Scatter(x=theta, y=prior_pdf, mode='lines', name=f'Prior: Beta({alpha},{beta_param})'))\n",
    "    fig.add_trace(go.Scatter(x=theta, y=likelihood, mode='lines', name=f'Likelihood (scaled)', line=dict(dash='dot')))\n",
    "    fig.add_trace(go.Scatter(x=theta, y=posterior_pdf, mode='lines', name=f'Posterior: Beta({post_alpha},{post_beta})'))\n",
    "    \n",
    "    fig.update_layout(\n",
    "        title=\"Bayesian Update: Beta Prior and Binomial Likelihood\",\n",
    "        xaxis_title=\"θ (Probability of Success)\",\n",
    "        yaxis_title=\"Density\",\n",
    "        legend=dict(x=0.75, y=0.95),\n",
    "        height=500\n",
    "    )\n",
    "    fig.show()\n",
    "\n",
    "# Interactive widgets\n",
    "alpha_slider = widgets.IntSlider(value=2, min=1, max=10, step=1, description='α (prior)')\n",
    "beta_slider = widgets.IntSlider(value=2, min=1, max=10, step=1, description='β (prior)')\n",
    "heads_slider = widgets.IntSlider(value=6, min=0, max=20, step=1, description='Heads (k)')\n",
    "tosses_slider = widgets.IntSlider(value=10, min=1, max=20, step=1, description='Tosses (n)')\n",
    "\n",
    "ui = widgets.VBox([alpha_slider, beta_slider, heads_slider, tosses_slider])\n",
    "out = widgets.interactive_output(plot_bayes_update, {\n",
    "    'alpha': alpha_slider,\n",
    "    'beta_param': beta_slider,\n",
    "    'heads': heads_slider,\n",
    "    'tosses': tosses_slider\n",
    "})\n",
    "\n",
    "display(ui, out)\n"
   ]
  },
  {
   "cell_type": "code",
   "execution_count": null,
   "metadata": {},
   "outputs": [],
   "source": []
  }
 ],
 "metadata": {
  "kernelspec": {
   "display_name": "Python 3",
   "language": "python",
   "name": "python3"
  },
  "language_info": {
   "codemirror_mode": {
    "name": "ipython",
    "version": 3
   },
   "file_extension": ".py",
   "mimetype": "text/x-python",
   "name": "python",
   "nbconvert_exporter": "python",
   "pygments_lexer": "ipython3",
   "version": "3.9.12"
  }
 },
 "nbformat": 4,
 "nbformat_minor": 2
}
